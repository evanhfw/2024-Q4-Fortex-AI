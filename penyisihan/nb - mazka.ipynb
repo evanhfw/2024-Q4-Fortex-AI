{
 "cells": [
  {
   "cell_type": "markdown",
   "metadata": {},
   "source": [
    "# Import Libraries"
   ]
  },
  {
   "cell_type": "code",
   "execution_count": 1,
   "metadata": {},
   "outputs": [],
   "source": [
    "import pandas as pd\n",
    "import numpy as np\n",
    "from sklearn.model_selection import cross_validate, train_test_split\n",
    "from sklearn.pipeline import Pipeline\n",
    "from sklearn.compose import ColumnTransformer\n",
    "from sklearn.impute import KNNImputer\n",
    "from sklearn.preprocessing import TargetEncoder\n",
    "from sklearn.ensemble import RandomForestRegressor\n",
    "from sklearn.tree import DecisionTreeRegressor\n",
    "from sklearn.svm import SVR\n",
    "from sklearn.metrics import mean_squared_error, mean_absolute_error\n",
    "\n",
    "from xgboost import XGBRegressor"
   ]
  },
  {
   "cell_type": "markdown",
   "metadata": {},
   "source": [
    "# Loading the Dataset"
   ]
  },
  {
   "cell_type": "code",
   "execution_count": 2,
   "metadata": {},
   "outputs": [
    {
     "data": {
      "text/html": [
       "<div>\n",
       "<style scoped>\n",
       "    .dataframe tbody tr th:only-of-type {\n",
       "        vertical-align: middle;\n",
       "    }\n",
       "\n",
       "    .dataframe tbody tr th {\n",
       "        vertical-align: top;\n",
       "    }\n",
       "\n",
       "    .dataframe thead th {\n",
       "        text-align: right;\n",
       "    }\n",
       "</style>\n",
       "<table border=\"1\" class=\"dataframe\">\n",
       "  <thead>\n",
       "    <tr style=\"text-align: right;\">\n",
       "      <th></th>\n",
       "      <th>BuildingID</th>\n",
       "      <th>BuildingType</th>\n",
       "      <th>YearBuilt</th>\n",
       "      <th>MonthlyElectricityConsumption_kWh</th>\n",
       "      <th>PeakUsageTime_Hour</th>\n",
       "      <th>RenewableCapacity_kWh</th>\n",
       "      <th>RenewableType</th>\n",
       "      <th>RenewableContributionPercentage</th>\n",
       "      <th>EnergySource</th>\n",
       "      <th>EnergyEfficiency_kWh_per_m2</th>\n",
       "      <th>WeatherData_Temperature_C</th>\n",
       "      <th>WeatherData_SolarIntensity_Hours</th>\n",
       "      <th>WeatherData_WindSpeed_km_h</th>\n",
       "    </tr>\n",
       "  </thead>\n",
       "  <tbody>\n",
       "    <tr>\n",
       "      <th>0</th>\n",
       "      <td>B000001</td>\n",
       "      <td>Educational</td>\n",
       "      <td>NaN</td>\n",
       "      <td>673.62</td>\n",
       "      <td>8</td>\n",
       "      <td>3292.66</td>\n",
       "      <td>NaN</td>\n",
       "      <td>30.27</td>\n",
       "      <td>Electricity</td>\n",
       "      <td>21.15</td>\n",
       "      <td>12.51</td>\n",
       "      <td>5.44</td>\n",
       "      <td>71.64</td>\n",
       "    </tr>\n",
       "    <tr>\n",
       "      <th>1</th>\n",
       "      <td>B000002</td>\n",
       "      <td>Agricultural</td>\n",
       "      <td>NaN</td>\n",
       "      <td>294.60</td>\n",
       "      <td>10</td>\n",
       "      <td>0.00</td>\n",
       "      <td>Tidal</td>\n",
       "      <td>0.00</td>\n",
       "      <td>Coal</td>\n",
       "      <td>21.01</td>\n",
       "      <td>18.22</td>\n",
       "      <td>8.91</td>\n",
       "      <td>10.85</td>\n",
       "    </tr>\n",
       "    <tr>\n",
       "      <th>2</th>\n",
       "      <td>B000003</td>\n",
       "      <td>Retail</td>\n",
       "      <td>2020.0</td>\n",
       "      <td>210.20</td>\n",
       "      <td>20</td>\n",
       "      <td>6483.89</td>\n",
       "      <td>Solar</td>\n",
       "      <td>90.72</td>\n",
       "      <td>Electricity</td>\n",
       "      <td>34.53</td>\n",
       "      <td>39.40</td>\n",
       "      <td>3.59</td>\n",
       "      <td>13.45</td>\n",
       "    </tr>\n",
       "    <tr>\n",
       "      <th>3</th>\n",
       "      <td>B000004</td>\n",
       "      <td>Commercial</td>\n",
       "      <td>NaN</td>\n",
       "      <td>174.14</td>\n",
       "      <td>5</td>\n",
       "      <td>12150.11</td>\n",
       "      <td>Wind</td>\n",
       "      <td>45.16</td>\n",
       "      <td>Biomass</td>\n",
       "      <td>48.66</td>\n",
       "      <td>17.97</td>\n",
       "      <td>3.65</td>\n",
       "      <td>40.85</td>\n",
       "    </tr>\n",
       "    <tr>\n",
       "      <th>4</th>\n",
       "      <td>B000005</td>\n",
       "      <td>Educational</td>\n",
       "      <td>NaN</td>\n",
       "      <td>61.27</td>\n",
       "      <td>23</td>\n",
       "      <td>3516.48</td>\n",
       "      <td>Solar</td>\n",
       "      <td>96.59</td>\n",
       "      <td>Electricity</td>\n",
       "      <td>25.46</td>\n",
       "      <td>16.18</td>\n",
       "      <td>8.11</td>\n",
       "      <td>72.20</td>\n",
       "    </tr>\n",
       "  </tbody>\n",
       "</table>\n",
       "</div>"
      ],
      "text/plain": [
       "  BuildingID  BuildingType  YearBuilt  MonthlyElectricityConsumption_kWh  \\\n",
       "0    B000001   Educational        NaN                             673.62   \n",
       "1    B000002  Agricultural        NaN                             294.60   \n",
       "2    B000003        Retail     2020.0                             210.20   \n",
       "3    B000004    Commercial        NaN                             174.14   \n",
       "4    B000005   Educational        NaN                              61.27   \n",
       "\n",
       "   PeakUsageTime_Hour  RenewableCapacity_kWh RenewableType  \\\n",
       "0                   8                3292.66           NaN   \n",
       "1                  10                   0.00         Tidal   \n",
       "2                  20                6483.89         Solar   \n",
       "3                   5               12150.11          Wind   \n",
       "4                  23                3516.48         Solar   \n",
       "\n",
       "   RenewableContributionPercentage EnergySource  EnergyEfficiency_kWh_per_m2  \\\n",
       "0                            30.27  Electricity                        21.15   \n",
       "1                             0.00         Coal                        21.01   \n",
       "2                            90.72  Electricity                        34.53   \n",
       "3                            45.16      Biomass                        48.66   \n",
       "4                            96.59  Electricity                        25.46   \n",
       "\n",
       "   WeatherData_Temperature_C  WeatherData_SolarIntensity_Hours  \\\n",
       "0                      12.51                              5.44   \n",
       "1                      18.22                              8.91   \n",
       "2                      39.40                              3.59   \n",
       "3                      17.97                              3.65   \n",
       "4                      16.18                              8.11   \n",
       "\n",
       "   WeatherData_WindSpeed_km_h  \n",
       "0                       71.64  \n",
       "1                       10.85  \n",
       "2                       13.45  \n",
       "3                       40.85  \n",
       "4                       72.20  "
      ]
     },
     "execution_count": 2,
     "metadata": {},
     "output_type": "execute_result"
    }
   ],
   "source": [
    "# Load dataset\n",
    "df = pd.read_csv(\"data/building_dataset.csv\")\n",
    "\n",
    "# Display first few rows\n",
    "df.head()"
   ]
  },
  {
   "cell_type": "markdown",
   "metadata": {},
   "source": [
    "# Data Preprocessing"
   ]
  },
  {
   "cell_type": "code",
   "execution_count": 3,
   "metadata": {},
   "outputs": [],
   "source": [
    "df = df.drop(columns=['BuildingID', 'YearBuilt', 'RenewableContributionPercentage'])"
   ]
  },
  {
   "cell_type": "code",
   "execution_count": 4,
   "metadata": {},
   "outputs": [],
   "source": [
    "X = df.drop(columns='MonthlyElectricityConsumption_kWh')\n",
    "y = df['MonthlyElectricityConsumption_kWh']\n",
    "\n",
    "categorical_cols = X.select_dtypes(include=['object']).columns\n",
    "numerical_cols = X.select_dtypes(exclude=['object']).columns\n",
    "\n",
    "X_train, X_test, y_train, y_test = train_test_split(X, y, test_size=.2, random_state=42)"
   ]
  },
  {
   "cell_type": "markdown",
   "metadata": {},
   "source": [
    "# Pipeline Models"
   ]
  },
  {
   "cell_type": "code",
   "execution_count": 5,
   "metadata": {},
   "outputs": [],
   "source": [
    "categorical_transformer = Pipeline(steps=[\n",
    "    ('encoder', TargetEncoder(random_state=42))\n",
    "])\n",
    "\n",
    "numerical_transformer = Pipeline(steps=[\n",
    "    ('imputer', KNNImputer()),\n",
    "])\n",
    "\n",
    "preprocessor = ColumnTransformer(\n",
    "    transformers=[\n",
    "        ('num', numerical_transformer, numerical_cols),\n",
    "        ('cat', categorical_transformer, categorical_cols)\n",
    "    ])\n",
    "\n",
    "pipeline_rf = Pipeline(steps=[\n",
    "    ('preprocessor', preprocessor),\n",
    "    ('model', RandomForestRegressor(random_state=42))\n",
    "])\n",
    "\n",
    "pipeline_svr = Pipeline(steps=[\n",
    "    ('preprocessor', preprocessor),\n",
    "    ('model', SVR())\n",
    "])\n",
    "\n",
    "pipeline_dtr = Pipeline(steps=[\n",
    "    ('preprocessor', preprocessor),\n",
    "    ('model', DecisionTreeRegressor(random_state=42))\n",
    "])\n",
    "\n",
    "def mean_absolute_percentage_error(y_true, y_pred):\n",
    "    return np.mean(np.abs((y_true - y_pred) / y_true)) * 100"
   ]
  },
  {
   "cell_type": "code",
   "execution_count": 6,
   "metadata": {},
   "outputs": [],
   "source": [
    "cv_results_rf = cross_validate(pipeline_rf, X, y, cv=5, scoring=['neg_mean_squared_error', 'neg_mean_absolute_error', 'neg_mean_absolute_percentage_error', 'r2','neg_root_mean_squared_error'], return_train_score=False, n_jobs=-1)\n",
    "cv_results_SVR = cross_validate(pipeline_svr, X, y, cv=5, scoring=['neg_mean_squared_error', 'neg_mean_absolute_error', 'neg_mean_absolute_percentage_error', 'r2','neg_root_mean_squared_error'], return_train_score=False, n_jobs=-1)\n",
    "cv_results_dtr = cross_validate(pipeline_dtr, X, y, cv=5, scoring=['neg_mean_squared_error', 'neg_mean_absolute_error', 'neg_mean_absolute_percentage_error', 'r2','neg_root_mean_squared_error'], return_train_score=False, n_jobs=-1)"
   ]
  },
  {
   "cell_type": "code",
   "execution_count": 7,
   "metadata": {},
   "outputs": [
    {
     "name": "stdout",
     "output_type": "stream",
     "text": [
      "mse = 46920.79774004162 +- -959.7127120080833\n",
      "mae = 125.79235799957851 +- -1.5832048822131086\n",
      "mape = 0.6578482431865901 +- -0.010412219337742005\n",
      "r2 = 0.7034433143924248 +- 0.03328018854381374\n",
      "rmse = 216.6007286686351 +- 2.2185761780800553\n"
     ]
    }
   ],
   "source": [
    "rf_mse = -(cv_results_rf['test_neg_mean_squared_error'].mean())\n",
    "rf_mae = -(cv_results_rf['test_neg_mean_absolute_error'].mean())\n",
    "rf_mape = -(cv_results_rf['test_neg_mean_absolute_percentage_error'].mean())\n",
    "rf_rmse =-(cv_results_rf['test_neg_root_mean_squared_error'].mean())\n",
    "rf_r2 = (cv_results_rf['test_r2'].mean())\n",
    "\n",
    "std_mse = -(cv_results_rf['test_neg_mean_squared_error'].std())\n",
    "std_mae = -(cv_results_rf['test_neg_mean_absolute_error'].std())\n",
    "std_mape = -(cv_results_rf['test_neg_mean_absolute_percentage_error'].std())\n",
    "std_r2 = (cv_results_rf['test_r2'].std())\n",
    "std_rmse = (cv_results_rf['test_neg_root_mean_squared_error'].std())\n",
    "\n",
    "print(f'mse = {rf_mse} +- {std_mse}')\n",
    "print(f'mae = {rf_mae} +- {std_mae}')\n",
    "print(f'mape = {rf_mape} +- {std_mape}')\n",
    "print(f'r2 = {rf_r2} +- {std_r2}')\n",
    "print(f'rmse = {rf_rmse} +- {std_rmse}')"
   ]
  },
  {
   "cell_type": "code",
   "execution_count": 8,
   "metadata": {},
   "outputs": [
    {
     "name": "stdout",
     "output_type": "stream",
     "text": [
      "mse = 176338.6639086408 +- -18552.003456182578\n",
      "mae = 229.24847667871168 +- -6.634792870287341\n",
      "mape = 1.3950678949599935 +- -0.0313018879593966\n",
      "r2 = -0.10193919073105402 +- 0.009440657490027286\n",
      "rmse = 419.34233999272664 +- 22.150977361399377\n"
     ]
    }
   ],
   "source": [
    "rf_mse = -(cv_results_SVR['test_neg_mean_squared_error'].mean())\n",
    "rf_mae = -(cv_results_SVR['test_neg_mean_absolute_error'].mean())\n",
    "rf_mape = -(cv_results_SVR['test_neg_mean_absolute_percentage_error'].mean())\n",
    "rf_rmse =-(cv_results_SVR['test_neg_root_mean_squared_error'].mean())\n",
    "rf_r2 = (cv_results_SVR['test_r2'].mean())\n",
    "\n",
    "std_mse = -(cv_results_SVR['test_neg_mean_squared_error'].std())\n",
    "std_mae = -(cv_results_SVR['test_neg_mean_absolute_error'].std())\n",
    "std_mape = -(cv_results_SVR['test_neg_mean_absolute_percentage_error'].std())\n",
    "std_r2 = (cv_results_SVR['test_r2'].std())\n",
    "std_rmse = (cv_results_SVR['test_neg_root_mean_squared_error'].std())\n",
    "\n",
    "print(f'mse = {rf_mse} +- {std_mse}')\n",
    "print(f'mae = {rf_mae} +- {std_mae}')\n",
    "print(f'mape = {rf_mape} +- {std_mape}')\n",
    "print(f'r2 = {rf_r2} +- {std_r2}')\n",
    "print(f'rmse = {rf_rmse} +- {std_rmse}')"
   ]
  },
  {
   "cell_type": "code",
   "execution_count": 9,
   "metadata": {},
   "outputs": [
    {
     "name": "stdout",
     "output_type": "stream",
     "text": [
      "mse = 89209.73570648827 +- -5868.854684174787\n",
      "mae = 167.23366639141528 +- -3.6809645324832165\n",
      "mape = 0.7980081093816169 +- -0.011437524355507473\n",
      "r2 = 0.4368812046839584 +- 0.0655512760019683\n",
      "rmse = 298.5185176457725 +- 9.819894554366574\n"
     ]
    }
   ],
   "source": [
    "rf_mse = -(cv_results_dtr['test_neg_mean_squared_error'].mean())\n",
    "rf_mae = -(cv_results_dtr['test_neg_mean_absolute_error'].mean())\n",
    "rf_mape = -(cv_results_dtr['test_neg_mean_absolute_percentage_error'].mean())\n",
    "rf_rmse =-(cv_results_dtr['test_neg_root_mean_squared_error'].mean())\n",
    "rf_r2 = (cv_results_dtr['test_r2'].mean())\n",
    "\n",
    "std_mse = -(cv_results_dtr['test_neg_mean_squared_error'].std())\n",
    "std_mae = -(cv_results_dtr['test_neg_mean_absolute_error'].std())\n",
    "std_mape = -(cv_results_dtr['test_neg_mean_absolute_percentage_error'].std())\n",
    "std_r2 = (cv_results_dtr['test_r2'].std())\n",
    "std_rmse = (cv_results_dtr['test_neg_root_mean_squared_error'].std())\n",
    "\n",
    "print(f'mse = {rf_mse} +- {std_mse}')\n",
    "print(f'mae = {rf_mae} +- {std_mae}')\n",
    "print(f'mape = {rf_mape} +- {std_mape}')\n",
    "print(f'r2 = {rf_r2} +- {std_r2}')\n",
    "print(f'rmse = {rf_rmse} +- {std_rmse}')"
   ]
  }
 ],
 "metadata": {
  "kernelspec": {
   "display_name": "VortexAI",
   "language": "python",
   "name": "python3"
  },
  "language_info": {
   "codemirror_mode": {
    "name": "ipython",
    "version": 3
   },
   "file_extension": ".py",
   "mimetype": "text/x-python",
   "name": "python",
   "nbconvert_exporter": "python",
   "pygments_lexer": "ipython3",
   "version": "3.12.8"
  }
 },
 "nbformat": 4,
 "nbformat_minor": 2
}
